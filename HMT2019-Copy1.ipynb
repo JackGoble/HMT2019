{
 "cells": [
  {
   "cell_type": "code",
   "execution_count": 1,
   "metadata": {},
   "outputs": [],
   "source": [
    "from __future__ import print_function\n",
    "import librosa"
   ]
  },
  {
   "cell_type": "code",
   "execution_count": 2,
   "metadata": {},
   "outputs": [],
   "source": [
    "import numpy as np\n",
    "import matplotlib.pyplot as plt\n",
    "%matplotlib inline"
   ]
  },
  {
   "cell_type": "code",
   "execution_count": 3,
   "metadata": {},
   "outputs": [],
   "source": [
    "samples_per_chunk = 300\n",
    "num_chunks_per_slice = 11\n",
    "num_chunks_per_beat = 8"
   ]
  },
  {
   "cell_type": "code",
   "execution_count": 4,
   "metadata": {},
   "outputs": [],
   "source": [
    "filename = \"song.ogg\""
   ]
  },
  {
   "cell_type": "code",
   "execution_count": 5,
   "metadata": {},
   "outputs": [],
   "source": [
    "y, sr = librosa.load(filename)"
   ]
  },
  {
   "cell_type": "code",
   "execution_count": 6,
   "metadata": {},
   "outputs": [
    {
     "data": {
      "text/plain": [
       "array([0., 0., 0., ..., 0., 0., 0.], dtype=float32)"
      ]
     },
     "execution_count": 6,
     "metadata": {},
     "output_type": "execute_result"
    }
   ],
   "source": [
    "y"
   ]
  },
  {
   "cell_type": "code",
   "execution_count": 7,
   "metadata": {},
   "outputs": [
    {
     "data": {
      "text/plain": [
       "5006112"
      ]
     },
     "execution_count": 7,
     "metadata": {},
     "output_type": "execute_result"
    }
   ],
   "source": [
    "len(y)"
   ]
  },
  {
   "cell_type": "code",
   "execution_count": 8,
   "metadata": {},
   "outputs": [
    {
     "data": {
      "text/plain": [
       "[<matplotlib.lines.Line2D at 0x7f69a0da7940>]"
      ]
     },
     "execution_count": 8,
     "metadata": {},
     "output_type": "execute_result"
    },
    {
     "data": {
      "image/png": "[encoded data removed]",
      "text/plain": [
       "<Figure size 432x288 with 1 Axes>"
      ]
     },
     "metadata": {
      "needs_background": "light"
     },
     "output_type": "display_data"
    }
   ],
   "source": [
    "plt.plot(range(len(y)),y)"
   ]
  },
  {
   "cell_type": "code",
   "execution_count": null,
   "metadata": {},
   "outputs": [],
   "source": []
  },
  {
   "cell_type": "code",
   "execution_count": 9,
   "metadata": {},
   "outputs": [],
   "source": [
    "length = librosa.get_duration(y=y,sr=sr)"
   ]
  },
  {
   "cell_type": "code",
   "execution_count": 10,
   "metadata": {},
   "outputs": [
    {
     "name": "stderr",
     "output_type": "stream",
     "text": [
      "/nfshome/apps/python-3.6.7/lib/python3.6/site-packages/scipy/fftpack/basic.py:160: FutureWarning: Using a non-tuple sequence for multidimensional indexing is deprecated; use `arr[tuple(seq)]` instead of `arr[seq]`. In the future this will be interpreted as an array index, `arr[np.array(seq)]`, which will result either in an error or a different result.\n",
      "  z[index] = x\n"
     ]
    }
   ],
   "source": [
    "tempo = np.round(librosa.beat.tempo(y, sr=sr))\n",
    "new_sample_rate = (tempo/200)*8000\n",
    "y = librosa.resample(y, sr, new_sample_rate)"
   ]
  },
  {
   "cell_type": "code",
   "execution_count": 11,
   "metadata": {},
   "outputs": [],
   "source": [
    "def chunks(l, n):\n",
    "    \"\"\"Yield successive n-sized chunks from l.\"\"\"\n",
    "    for i in range(0, len(l), n):\n",
    "        yield l[i:i + n]"
   ]
  },
  {
   "cell_type": "code",
   "execution_count": 12,
   "metadata": {},
   "outputs": [],
   "source": [
    "#This function takes an int representing the BPM, a float representing how long the song is in secs, and\n",
    "#a long int representing the file size. This information is used to create a list containing the start \n",
    "#and endpoints for blocks.\n",
    "\n",
    "def blockList(BPM, secs, fileSize,y):\n",
    "    mins = secs / 60.0 #how many minutes long is the song\n",
    "    numBeats = int(BPM * mins) #the number of beats in the song\n",
    "    numChunks = numBeats * 8 #the total number of chunks\n",
    "    chunkSize = int(fileSize / numChunks) #how many points there are in a chunk\n",
    "\n",
    "    chunker = chunks(y, int(chunkSize))\n",
    "    List = [np.abs(np.fft.fft(next(chunker)))[0:int(chunkSize/2)+1] for i in range(int(numChunks))]\n",
    "\n",
    "    print(\"minutes   :\", mins)\n",
    "    print(\"num beats :\", numBeats)\n",
    "    print(\"num chunks:\", numChunks)\n",
    "    print(\"chunk size:\", chunkSize)        \n",
    "    \n",
    "    return List, numChunks, numBeats\n",
    "    "
   ]
  },
  {
   "cell_type": "code",
   "execution_count": 13,
   "metadata": {},
   "outputs": [
    {
     "name": "stdout",
     "output_type": "stream",
     "text": [
      "minutes   : 3.7839092970521544\n",
      "num beats : 514\n",
      "num chunks: 4112\n",
      "chunk size: 300\n"
     ]
    }
   ],
   "source": [
    "chunkedList, number_of_chunks, number_of_beats = blockList(tempo, length, len(y), y)"
   ]
  },
  {
   "cell_type": "code",
   "execution_count": 14,
   "metadata": {},
   "outputs": [],
   "source": [
    "def sliding_window_gen(l, noc, ncps): #parameters: the list of numpy arrays, the number of chunks, and the number of chunks per slice\n",
    "    for i in range(int(ncps/2)): #pad both sides of the input list with numpy arrays of zeros \n",
    "        l.insert(0, np.zeros(samples_per_chunk))\n",
    "        l.append(np.zeros(samples_per_chunk))\n",
    "    for i in range(noc):\n",
    "        yield np.concatenate(l[i:i+ncps])"
   ]
  },
  {
   "cell_type": "code",
   "execution_count": 15,
   "metadata": {},
   "outputs": [],
   "source": [
    "window_generator = sliding_window_gen(chunkedList,number_of_chunks, num_chunks_per_slice)"
   ]
  },
  {
   "cell_type": "code",
   "execution_count": 16,
   "metadata": {},
   "outputs": [],
   "source": [
    "current_window = next(window_generator)"
   ]
  },
  {
   "cell_type": "code",
   "execution_count": 17,
   "metadata": {},
   "outputs": [
    {
     "name": "stdout",
     "output_type": "stream",
     "text": [
      "[0. 0. 0. ... 0. 0. 0.]\n"
     ]
    }
   ],
   "source": [
    "print(current_window)"
   ]
  },
  {
   "cell_type": "code",
   "execution_count": 34,
   "metadata": {},
   "outputs": [],
   "source": [
    "import json\n",
    "import numpy as np\n",
    "from sympy import *\n",
    "init_printing(use_latex=True)\n",
    "import scipy.spatial.distance as ssd\n",
    "from pprint import pprint\n",
    "    \n",
    "def jsonInterpretor(filename, beats):\n",
    "    \n",
    "    with open(filename) as f:\n",
    "        data = json.load(f)          \n",
    "  \n",
    "    #beats = 300 #the number of beats\n",
    "    notes = \"_notes\"\n",
    "    time = \"_time\"\n",
    "    lineIndex = \"_lineIndex\" #row\n",
    "    lineLayer = \"_lineLayer\" #column\n",
    "    types = \"_type\" #0 is one color and 1 is the other\n",
    "    cutDirection = \"_cutDirection\"#9 cut directions\n",
    "\n",
    "    MatrixRows = beats * num_chunks_per_beat\n",
    "\n",
    "    FinalMatrix = np.zeros(shape=(MatrixRows,32))#will hold all of the vectors, should be 32 by the number of beats * 8\n",
    "\n",
    "    j = 0; #index for .json notes\n",
    "    beat = 0.0 #1/8 increments for keeping track of time\n",
    "    \n",
    "    \n",
    "    #data[notes][3][time]\n",
    "    for i in range(MatrixRows):\n",
    "        if np.round(data[notes][j][time]*num_chunks_per_beat)/num_chunks_per_beat == beat:\n",
    "            if data[notes][j][types] == 0: #if the color is equal to 0, start at zero\n",
    "                    FinalMatrix[i][data[notes][j][lineIndex]]+=1\n",
    "                    FinalMatrix[i][data[notes][j][lineLayer]+4]+=1\n",
    "                    FinalMatrix[i][data[notes][j][cutDirection]+7]+=1\n",
    "            elif data[notes][i][types] == 1: #else the color is equal to 1, add 16\n",
    "                    FinalMatrix[i][data[notes][j][lineIndex]+16]+=1\n",
    "                    FinalMatrix[i][data[notes][j][lineLayer]+4+16]+=1\n",
    "                    FinalMatrix[i][data[notes][j][cutDirection]+7+16]+=1\n",
    "            j+=1#increment the note cntr after updating the matrix with the appropriate ones\n",
    "        beat +=.125#increment the beat cntr after every 'i' increment\n",
    "    \n",
    "    return FinalMatrix;\n",
    "\n"
   ]
  },
  {
   "cell_type": "code",
   "execution_count": 63,
   "metadata": {},
   "outputs": [
    {
     "data": {
      "image/png": "[encoded data removed]",
      "text/latex": [
       "$$320$$"
      ],
      "text/plain": [
       "320"
      ]
     },
     "execution_count": 63,
     "metadata": {},
     "output_type": "execute_result"
    }
   ],
   "source": [
    "len(A)"
   ]
  },
  {
   "cell_type": "code",
   "execution_count": 87,
   "metadata": {},
   "outputs": [],
   "source": [
    "A = jsonInterpretor('Hard.json', number_of_beats)\n",
    "def beatmap_training_gen(A): #slice matrix into its rows\n",
    "    for i in range(len(A)):\n",
    "        yield A[i:(i+1)]"
   ]
  },
  {
   "cell_type": "code",
   "execution_count": 81,
   "metadata": {},
   "outputs": [],
   "source": [
    "beatmap_training_generator = beatmap_training_gen(A)"
   ]
  },
  {
   "cell_type": "code",
   "execution_count": 82,
   "metadata": {},
   "outputs": [],
   "source": [
    "for i in range(163):\n",
    "    next(beatmap_training_generator)"
   ]
  },
  {
   "cell_type": "code",
   "execution_count": 85,
   "metadata": {},
   "outputs": [],
   "source": [
    "b = next(beatmap_training_generator)"
   ]
  },
  {
   "cell_type": "code",
   "execution_count": 86,
   "metadata": {},
   "outputs": [
    {
     "data": {
      "text/plain": [
       "array([[0., 0., 1., 0., 1., 0., 0., 0., 0., 0., 0., 0., 0., 0., 1., 0.,\n",
       "        0., 0., 0., 0., 0., 0., 0., 0., 0., 0., 0., 0., 0., 0., 0., 0.]])"
      ]
     },
     "execution_count": 86,
     "metadata": {},
     "output_type": "execute_result"
    }
   ],
   "source": [
    "b"
   ]
  },
  {
   "cell_type": "code",
   "execution_count": null,
   "metadata": {},
   "outputs": [],
   "source": []
  }
 ],
 "metadata": {
  "kernelspec": {
   "display_name": "Python 3",
   "language": "python",
   "name": "python3"
  },
  "language_info": {
   "codemirror_mode": {
    "name": "ipython",
    "version": 3
   },
   "file_extension": ".py",
   "mimetype": "text/x-python",
   "name": "python",
   "nbconvert_exporter": "python",
   "pygments_lexer": "ipython3",
   "version": "3.6.7"
  }
 },
 "nbformat": 4,
 "nbformat_minor": 2
}

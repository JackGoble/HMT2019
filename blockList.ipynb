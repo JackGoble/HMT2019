{
 "cells": [
  {
   "cell_type": "markdown",
   "metadata": {},
   "source": [
    "given an int representing the BPM, a float representing seconds, and a big int representing the size of the file.\n",
    "\n",
    "start at zero and the end point for the size of the chunk.\n",
    "\n",
    "a list of pairs or a list of ints.\n",
    "\n",
    "BPM * mins = num of beats.\n",
    "num of beats * 4 = chunks.\n",
    "\n",
    "break up into chunks (4 chunks per beat).\n",
    "\n",
    "list comprehension to define the start and end points of the chunks."
   ]
  },
  {
   "cell_type": "code",
   "execution_count": null,
   "metadata": {},
   "outputs": [],
   "source": [
    "#This function takes an int representing the BPM, a float representing how long the song is in secs, and\n",
    "#a long int representing the file size. This information is used to create a list containing the start \n",
    "#and endpoints for blocks.\n",
    "\n",
    "def blockList(BPM, secs, fileSize):\n",
    "    mins = secs / 60.0 #how many minutes long is the song\n",
    "    numBeats = BPM * mins #the number of beats in the song\n",
    "    chunks = numBeats * 4 #the total number of chunks\n",
    "    blockSize = fileSize / chunks #how many chunks there are in a block\n",
    "    \n",
    "    endpointsList = []\n",
    "    \n",
    "    for\n",
    "    \n",
    "return;"
   ]
  },
  {
   "cell_type": "code",
   "execution_count": null,
   "metadata": {},
   "outputs": [],
   "source": []
  }
 ],
 "metadata": {
  "kernelspec": {
   "display_name": "Python 3",
   "language": "python",
   "name": "python3"
  },
  "language_info": {
   "codemirror_mode": {
    "name": "ipython",
    "version": 3
   },
   "file_extension": ".py",
   "mimetype": "text/x-python",
   "name": "python",
   "nbconvert_exporter": "python",
   "pygments_lexer": "ipython3",
   "version": "3.6.7"
  }
 },
 "nbformat": 4,
 "nbformat_minor": 2
}

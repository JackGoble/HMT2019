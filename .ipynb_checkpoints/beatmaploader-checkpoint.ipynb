{
 "cells": [
  {
   "cell_type": "code",
   "execution_count": null,
   "metadata": {},
   "outputs": [],
   "source": [
    "import json\n",
    "import nump as np\n",
    "from sympy import *\n",
    "init_printing(use_latex=True)\n",
    "import scipy.spatial.distance as ssd\n",
    "from pprint import pprint\n",
    "\n",
    "def beatmaploader(beatmap, num_beats, num_chunks_per_beat=8)\n",
    "    if(beatmap[len(beatmap-5):len(beatmap)] != \".json\"):\n",
    "        print(\"Beatmap file \" + audio + \" is not of type .json\")\n",
    "        return -1\n",
    "    \n",
    "    with open(beatmap) as f:\n",
    "        data = json.load(f)\n",
    "  \n",
    "    notes = \"_notes\"\n",
    "    time = \"_time\"\n",
    "    line_index = \"_lineIndex\" #column number\n",
    "    line_layer = \"_lineLayer\" #row number\n",
    "    note_color = \"_type\" #0 is one color and 1 is the other\n",
    "    cut_direction = \"_cutDirection\"#9 cut directions\n",
    "\n",
    "    num_rows = num_beats * num_chunks_per_beat\n",
    "    \n",
    "    # number of rows and columns in the playfield\n",
    "    # number of cells in the playfield (each cell can hold at most 1 note)\n",
    "    playfield_rows = 3\n",
    "    playfield_cols = 4\n",
    "    playfield_cell_count = playfield_rows * playfield_cols\n",
    "    \n",
    "    # number of colors (2): red, blue (order unknown)\n",
    "    # number of directions notes can face (9): \n",
    "    # up, down, left, right, up-left, up-right, down-left, down-right, dot (order unknown)\n",
    "    note_color_count = 2\n",
    "    note_direction_count = 9\n",
    "    \n",
    "    # number of columns required for a '1-hot' representation of a single time unit (chunk)\n",
    "    num_cols = playfield_cell_count * (note_color_count + note_direction_count) \n",
    "    \n",
    "    outMatrix = np.zeros(shape=(num_rows,num_cols))    \n",
    "\n",
    "    # for every note in the beatmap, set the color and direction bits for the proper cell to 1\n",
    "    # cell_start_index = line_layer * (note_color_count + note_direction_count) + line_index\n",
    "    # color bit = cell_index + note_color\n",
    "    # direction bit = cell_index + note_color_count + cut_direction\n",
    "    for n in range(len(data[notes])):\n",
    "        row = int(np.round(data[notes][n][time]*num_chunks_per_beat)) #convert time to row index by rounding to nearest 1/8 beat\n",
    "        if data[notes][n][note_color] < 2:\n",
    "            cell_start_index = data[notes][n][line_layer] * (note_color_count + note_direction_count) + data[notes][n][line_index]\n",
    "            outMatrix[row][cell_start_index + data[notes][n][note_color]] = 1\n",
    "            outMatrix[row][cell_start_index + data[notes][n][cut_direction]] = 1\n",
    "\n",
    "    return outMatrix, num_cols"
   ]
  }
 ],
 "metadata": {
  "kernelspec": {
   "display_name": "Python 3",
   "language": "python",
   "name": "python3"
  },
  "language_info": {
   "codemirror_mode": {
    "name": "ipython",
    "version": 3
   },
   "file_extension": ".py",
   "mimetype": "text/x-python",
   "name": "python",
   "nbconvert_exporter": "python",
   "pygments_lexer": "ipython3",
   "version": "3.6.7"
  }
 },
 "nbformat": 4,
 "nbformat_minor": 2
}

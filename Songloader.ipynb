{
 "cells": [
  {
   "cell_type": "code",
   "execution_count": null,
   "metadata": {},
   "outputs": [],
   "source": [
    "import numpy as np\n",
    "import librosa\n",
    "        \n",
    "def songloader(audio, samples_per_chunk=300, num_chunks_per_slice=65, num_chunks_per_beat=8):\n",
    "    if audio[len(audio)4:len(audio)] != \".pkl\":\n",
    "        print(\"Audio file \" + audio + \" is not of type .ogg\")\n",
    "        return -1\n",
    "    \n",
    "    y, sr = librosa.load(audio)\n",
    "    \n",
    "    length = librosa.get_duration(y=y,sr=sr)\n",
    "    tempo = np.round(librosa.beat.tempo(y, sr=sr))\n",
    "    \n",
    "    new_sample_rate = (tempo/200)*8000\n",
    "\n",
    "    y = librosa.resample(y, sr, new_sample_rate)\n",
    "    \n",
    "    return y\n"
   ]
  }
 ],
 "metadata": {
  "kernelspec": {
   "display_name": "Python 3",
   "language": "python",
   "name": "python3"
  },
  "language_info": {
   "codemirror_mode": {
    "name": "ipython",
    "version": 3
   },
   "file_extension": ".py",
   "mimetype": "text/x-python",
   "name": "python",
   "nbconvert_exporter": "python",
   "pygments_lexer": "ipython3",
   "version": "3.6.7"
  }
 },
 "nbformat": 4,
 "nbformat_minor": 2
}

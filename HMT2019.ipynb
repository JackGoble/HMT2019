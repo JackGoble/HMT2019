{
 "cells": [
  {
   "cell_type": "code",
   "execution_count": 1,
   "metadata": {},
   "outputs": [],
   "source": [
    "from __future__ import print_function\n",
    "import librosa"
   ]
  },
  {
   "cell_type": "code",
   "execution_count": 2,
   "metadata": {},
   "outputs": [],
   "source": [
    "import numpy as np\n",
    "import matplotlib.pyplot as plt\n",
    "%matplotlib inline"
   ]
  },
  {
   "cell_type": "code",
   "execution_count": 3,
   "metadata": {},
   "outputs": [],
   "source": [
    "samples_per_chunk = 300\n",
    "num_chunks_per_slice = 11\n",
    "num_chunks_per_beat = 8"
   ]
  },
  {
   "cell_type": "code",
   "execution_count": 4,
   "metadata": {},
   "outputs": [],
   "source": [
    "filename = \"song.ogg\""
   ]
  },
  {
   "cell_type": "code",
   "execution_count": 5,
   "metadata": {},
   "outputs": [],
   "source": [
    "y, sr = librosa.load(filename)"
   ]
  },
  {
   "cell_type": "code",
   "execution_count": 6,
   "metadata": {},
   "outputs": [
    {
     "data": {
      "text/plain": [
       "array([0., 0., 0., ..., 0., 0., 0.], dtype=float32)"
      ]
     },
     "execution_count": 6,
     "metadata": {},
     "output_type": "execute_result"
    }
   ],
   "source": [
    "y"
   ]
  },
  {
   "cell_type": "code",
   "execution_count": 7,
   "metadata": {},
   "outputs": [
    {
     "data": {
      "text/plain": [
       "5006112"
      ]
     },
     "execution_count": 7,
     "metadata": {},
     "output_type": "execute_result"
    }
   ],
   "source": [
    "len(y)"
   ]
  },
  {
   "cell_type": "code",
   "execution_count": 8,
   "metadata": {},
   "outputs": [],
   "source": [
    "#plt.plot(range(len(y)),y)"
   ]
  },
  {
   "cell_type": "code",
   "execution_count": null,
   "metadata": {},
   "outputs": [],
   "source": []
  },
  {
   "cell_type": "code",
   "execution_count": 9,
   "metadata": {},
   "outputs": [],
   "source": [
    "length = librosa.get_duration(y=y,sr=sr)"
   ]
  },
  {
   "cell_type": "code",
   "execution_count": 10,
   "metadata": {},
   "outputs": [
    {
     "name": "stderr",
     "output_type": "stream",
     "text": [
      "/nfshome/apps/python-3.6.7/lib/python3.6/site-packages/scipy/fftpack/basic.py:160: FutureWarning: Using a non-tuple sequence for multidimensional indexing is deprecated; use `arr[tuple(seq)]` instead of `arr[seq]`. In the future this will be interpreted as an array index, `arr[np.array(seq)]`, which will result either in an error or a different result.\n",
      "  z[index] = x\n"
     ]
    }
   ],
   "source": [
    "tempo = np.round(librosa.beat.tempo(y, sr=sr))\n",
    "new_sample_rate = (tempo/200)*8000\n",
    "y = librosa.resample(y, sr, new_sample_rate)"
   ]
  },
  {
   "cell_type": "code",
   "execution_count": 11,
   "metadata": {},
   "outputs": [],
   "source": [
    "def chunks(l, n):\n",
    "    \"\"\"Yield successive n-sized chunks from l.\"\"\"\n",
    "    for i in range(0, len(l), n):\n",
    "        yield l[i:i + n]"
   ]
  },
  {
   "cell_type": "code",
   "execution_count": 12,
   "metadata": {},
   "outputs": [],
   "source": [
    "#This function takes an int representing the BPM, a float representing how long the song is in secs, and\n",
    "#a long int representing the file size. This information is used to create a list containing the start \n",
    "#and endpoints for blocks.\n",
    "\n",
    "def blockList(BPM, secs, fileSize,y):\n",
    "    mins = secs / 60.0 #how many minutes long is the song\n",
    "    numBeats = int(BPM * mins) #the number of beats in the song\n",
    "    numChunks = numBeats * 8 #the total number of chunks\n",
    "    chunkSize = int(fileSize / numChunks) #how many points there are in a chunk\n",
    "\n",
    "    chunker = chunks(y, int(chunkSize))\n",
    "    List = [np.abs(np.fft.fft(next(chunker)))[0:int(chunkSize/2)+1] for i in range(int(numChunks))]\n",
    "\n",
    "    print(\"minutes   :\", mins)\n",
    "    print(\"num beats :\", numBeats)\n",
    "    print(\"num chunks:\", numChunks)\n",
    "    print(\"chunk size:\", chunkSize)        \n",
    "    \n",
    "    return List, numChunks, numBeats\n",
    "    "
   ]
  },
  {
   "cell_type": "code",
   "execution_count": 31,
   "metadata": {},
   "outputs": [
    {
     "name": "stdout",
     "output_type": "stream",
     "text": [
      "minutes   : 3.7839092970521544\n",
      "num beats : 514\n",
      "num chunks: 4112\n",
      "chunk size: 300\n"
     ]
    }
   ],
   "source": [
    "chunkedList, number_of_chunks, number_of_beats = blockList(tempo, length, len(y), y)"
   ]
  },
  {
   "cell_type": "code",
   "execution_count": 32,
   "metadata": {},
   "outputs": [
    {
     "name": "stdout",
     "output_type": "stream",
     "text": [
      "300\n"
     ]
    }
   ],
   "source": [
    "print(samples_per_chunk)"
   ]
  },
  {
   "cell_type": "code",
   "execution_count": 75,
   "metadata": {},
   "outputs": [],
   "source": [
    "def sliding_window_gen(l, noc, ncps): #parameters: the list of numpy arrays, the number of chunks, and the number of chunks per slice\n",
    "    for i in range(int(ncps/2)): #pad both sides of the input list with numpy arrays of zeros \n",
    "        l.insert(0, np.zeros(int(samples_per_chunk/2)+1))\n",
    "        l.append(np.zeros(int(samples_per_chunk/2)+1))\n",
    "    for j in range(noc):\n",
    "        yield np.concatenate(l[j:j+ncps])"
   ]
  },
  {
   "cell_type": "code",
   "execution_count": 76,
   "metadata": {},
   "outputs": [],
   "source": [
    "window_generator = sliding_window_gen(chunkedList, number_of_chunks, num_chunks_per_slice)"
   ]
  },
  {
   "cell_type": "code",
   "execution_count": 77,
   "metadata": {},
   "outputs": [],
   "source": [
    "current_window = np.zeros(shape=(number_of_chunks, int(((samples_per_chunk/2)+1)*num_chunks_per_slice)))\n",
    "for i in range(number_of_chunks):\n",
    "    current_window[i] = next(window_generator)"
   ]
  },
  {
   "cell_type": "code",
   "execution_count": 78,
   "metadata": {},
   "outputs": [
    {
     "data": {
      "image/png": "[encoded data removed]",
      "text/latex": [
       "$$4112$$"
      ],
      "text/plain": [
       "4112"
      ]
     },
     "execution_count": 78,
     "metadata": {},
     "output_type": "execute_result"
    }
   ],
   "source": [
    "len(current_window)"
   ]
  },
  {
   "cell_type": "code",
   "execution_count": 79,
   "metadata": {},
   "outputs": [],
   "source": [
    "import json\n",
    "import numpy as np\n",
    "from sympy import *\n",
    "init_printing(use_latex=True)\n",
    "import scipy.spatial.distance as ssd\n",
    "from pprint import pprint\n",
    "    \n",
    "def jsonInterpretor(filename, beats):\n",
    "    \n",
    "    with open(filename) as f:\n",
    "        data = json.load(f)          \n",
    "  \n",
    "    notes = \"_notes\"\n",
    "    time = \"_time\"\n",
    "    lineIndex = \"_lineIndex\" #row\n",
    "    lineLayer = \"_lineLayer\" #column\n",
    "    types = \"_type\" #0 is one color and 1 is the other\n",
    "    cutDirection = \"_cutDirection\"#9 cut directions\n",
    "\n",
    "    MatrixRows = beats * num_chunks_per_beat\n",
    "\n",
    "    FinalMatrix = np.zeros(shape=(MatrixRows,32))#will hold all of the vectors, should be 32 by the number of beats * 8\n",
    "\n",
    "    j = 0; #index for .json notes\n",
    "    beat = 0.0 #1/8 increments for keeping track of time\n",
    "    \n",
    "    \n",
    "    #data[notes][3][time]\n",
    "    for i in range(MatrixRows):\n",
    "        if np.round(data[notes][j][time]*num_chunks_per_beat)/num_chunks_per_beat == beat:\n",
    "            if data[notes][j][types] == 0: #if the color is equal to 0, start at zero\n",
    "                    FinalMatrix[i][data[notes][j][lineIndex]]+=1\n",
    "                    FinalMatrix[i][data[notes][j][lineLayer]+4]+=1\n",
    "                    FinalMatrix[i][data[notes][j][cutDirection]+7]+=1\n",
    "            elif data[notes][i][types] == 1: #else the color is equal to 1, add 16\n",
    "                    FinalMatrix[i][data[notes][j][lineIndex]+16]+=1\n",
    "                    FinalMatrix[i][data[notes][j][lineLayer]+4+16]+=1\n",
    "                    FinalMatrix[i][data[notes][j][cutDirection]+7+16]+=1\n",
    "            j+=1#increment the note cntr after updating the matrix with the appropriate ones\n",
    "        beat +=.125#increment the beat cntr after every 'i' increment\n",
    "    \n",
    "    return FinalMatrix;\n",
    "\n"
   ]
  },
  {
   "cell_type": "code",
   "execution_count": null,
   "metadata": {},
   "outputs": [],
   "source": []
  },
  {
   "cell_type": "code",
   "execution_count": 80,
   "metadata": {},
   "outputs": [],
   "source": [
    "A = jsonInterpretor('Hard.json', number_of_beats)\n",
    "def beatmap_training_gen(A): #slice matrix into its rows\n",
    "    for i in range(len(A)):\n",
    "        yield A[i:(i+1)]"
   ]
  },
  {
   "cell_type": "code",
   "execution_count": 81,
   "metadata": {},
   "outputs": [],
   "source": [
    "beatmap_training_generator = beatmap_training_gen(A)"
   ]
  },
  {
   "cell_type": "code",
   "execution_count": null,
   "metadata": {},
   "outputs": [],
   "source": []
  },
  {
   "cell_type": "code",
   "execution_count": 82,
   "metadata": {},
   "outputs": [
    {
     "data": {
      "text/plain": [
       "array([[0., 0., 0., 0., 0., 0., 0., 0., 0., 0., 0., 0., 0., 0., 0., 0.,\n",
       "        0., 0., 0., 0., 0., 0., 0., 0., 0., 0., 0., 0., 0., 0., 0., 0.]])"
      ]
     },
     "execution_count": 82,
     "metadata": {},
     "output_type": "execute_result"
    }
   ],
   "source": [
    "next(beatmap_training_generator)"
   ]
  },
  {
   "cell_type": "code",
   "execution_count": null,
   "metadata": {},
   "outputs": [],
   "source": []
  },
  {
   "cell_type": "code",
   "execution_count": 83,
   "metadata": {},
   "outputs": [
    {
     "name": "stdout",
     "output_type": "stream",
     "text": [
      "_________________________________________________________________\n",
      "Layer (type)                 Output Shape              Param #   \n",
      "=================================================================\n",
      "dense_9 (Dense)              (None, 512)               850944    \n",
      "_________________________________________________________________\n",
      "dense_10 (Dense)             (None, 32)                16416     \n",
      "=================================================================\n",
      "Total params: 867,360\n",
      "Trainable params: 867,360\n",
      "Non-trainable params: 0\n",
      "_________________________________________________________________\n",
      "None\n"
     ]
    }
   ],
   "source": [
    "import keras\n",
    "\n",
    "from IPython.display import SVG\n",
    "from IPython.display import display\n",
    "from keras.utils.vis_utils import model_to_dot\n",
    "\n",
    "from sympy import *\n",
    "init_printing(use_latex=True)\n",
    "\n",
    "model = keras.models.Sequential()\n",
    "model.add(keras.layers.Dense(512,input_dim=(int((samples_per_chunk/2+1)*num_chunks_per_slice)),activation='relu', bias_initializer=keras.initializers.Constant(0.1)))\n",
    "model.add(keras.layers.Dense(32,activation='sigmoid'))\n",
    "model.compile(loss='binary_crossentropy',optimizer='adam')\n",
    "print(model.summary())"
   ]
  },
  {
   "cell_type": "code",
   "execution_count": 86,
   "metadata": {},
   "outputs": [
    {
     "name": "stdout",
     "output_type": "stream",
     "text": [
      "Epoch 1/10\n",
      "4112/4112 [==============================] - 251s 61ms/step - loss: 0.0037\n",
      "Epoch 2/10\n",
      "4112/4112 [==============================] - 237s 58ms/step - loss: 0.0022\n",
      "Epoch 3/10\n",
      "4112/4112 [==============================] - 206s 50ms/step - loss: 0.0022\n",
      "Epoch 4/10\n",
      "4112/4112 [==============================] - 211s 51ms/step - loss: 0.0022\n",
      "Epoch 5/10\n",
      "4112/4112 [==============================] - 224s 54ms/step - loss: 0.0022\n",
      "Epoch 6/10\n",
      "4112/4112 [==============================] - 213s 52ms/step - loss: 0.0022\n",
      "Epoch 7/10\n",
      "4112/4112 [==============================] - 204s 50ms/step - loss: 0.0022\n",
      "Epoch 8/10\n",
      "4112/4112 [==============================] - 230s 56ms/step - loss: 0.0022\n",
      "Epoch 9/10\n",
      "4112/4112 [==============================] - 201s 49ms/step - loss: 0.0022\n",
      "Epoch 10/10\n",
      "4112/4112 [==============================] - 236s 57ms/step - loss: 0.0022\n"
     ]
    }
   ],
   "source": [
    "#window size of 1. \n",
    "history = model.fit(current_window, A,\n",
    "    batch_size=1,epochs=10,verbose=1)"
   ]
  },
  {
   "cell_type": "code",
   "execution_count": 87,
   "metadata": {},
   "outputs": [
    {
     "data": {
      "text/plain": [
       "[<matplotlib.lines.Line2D at 0x7f0d3ba39320>]"
      ]
     },
     "execution_count": 87,
     "metadata": {},
     "output_type": "execute_result"
    },
    {
     "data": {
      "image/png": "[encoded data removed]",
      "text/plain": [
       "<Figure size 432x288 with 1 Axes>"
      ]
     },
     "metadata": {
      "needs_background": "light"
     },
     "output_type": "display_data"
    }
   ],
   "source": [
    "plt.plot(history.history['loss'])"
   ]
  },
  {
   "cell_type": "code",
   "execution_count": 94,
   "metadata": {},
   "outputs": [
    {
     "name": "stdout",
     "output_type": "stream",
     "text": [
      "4112/4112 [==============================] - 2s 383us/step\n",
      "Test loss: 0.0022049705650988172\n"
     ]
    }
   ],
   "source": [
    "score = model.evaluate(current_window, A, verbose=1)\n",
    "print('Test loss:', score)"
   ]
  },
  {
   "cell_type": "code",
   "execution_count": 95,
   "metadata": {},
   "outputs": [
    {
     "name": "stdout",
     "output_type": "stream",
     "text": [
      "4112/4112 [==============================] - 2s 434us/step\n"
     ]
    }
   ],
   "source": [
    "output = model.predict(current_window, verbose=1)"
   ]
  },
  {
   "cell_type": "code",
   "execution_count": 97,
   "metadata": {},
   "outputs": [
    {
     "data": {
      "text/plain": [
       "array([[8.1861472e-08, 7.9279630e-08, 8.4545455e-08, ..., 9.5125387e-08,\n",
       "        9.4740436e-08, 8.6771230e-08],\n",
       "       [8.1861472e-08, 7.9279630e-08, 8.4545455e-08, ..., 9.5125387e-08,\n",
       "        9.4740436e-08, 8.6771230e-08],\n",
       "       [8.1861472e-08, 7.9279630e-08, 8.4545455e-08, ..., 9.5125387e-08,\n",
       "        9.4740436e-08, 8.6771230e-08],\n",
       "       ...,\n",
       "       [7.3007264e-08, 7.0999953e-08, 7.5543028e-08, ..., 8.3108738e-08,\n",
       "        8.2232980e-08, 7.6293389e-08],\n",
       "       [7.4939564e-08, 7.2808270e-08, 7.7532093e-08, ..., 8.5768328e-08,\n",
       "        8.4931742e-08, 7.8627117e-08],\n",
       "       [7.6164568e-08, 7.3935368e-08, 7.8733066e-08, ..., 8.7336765e-08,\n",
       "        8.6594149e-08, 7.9971862e-08]], dtype=float32)"
      ]
     },
     "execution_count": 97,
     "metadata": {},
     "output_type": "execute_result"
    }
   ],
   "source": [
    "output"
   ]
  },
  {
   "cell_type": "code",
   "execution_count": null,
   "metadata": {},
   "outputs": [],
   "source": []
  }
 ],
 "metadata": {
  "kernelspec": {
   "display_name": "Python 3",
   "language": "python",
   "name": "python3"
  },
  "language_info": {
   "codemirror_mode": {
    "name": "ipython",
    "version": 3
   },
   "file_extension": ".py",
   "mimetype": "text/x-python",
   "name": "python",
   "nbconvert_exporter": "python",
   "pygments_lexer": "ipython3",
   "version": "3.6.7"
  }
 },
 "nbformat": 4,
 "nbformat_minor": 2
}
